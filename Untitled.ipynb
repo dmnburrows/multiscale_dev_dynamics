{
 "cells": [
  {
   "cell_type": "code",
   "execution_count": 1,
   "id": "0036464d-30e6-4b55-bacb-94137d7aad42",
   "metadata": {},
   "outputs": [
    {
     "data": {
      "text/plain": [
       "'3.7.16 (default, Jan 17 2023, 09:28:58) \\n[Clang 14.0.6 ]'"
      ]
     },
     "execution_count": 1,
     "metadata": {},
     "output_type": "execute_result"
    }
   ],
   "source": [
    "#Import packages\n",
    "#---------------------------------------\n",
    "import sys\n",
    "import os\n",
    "import pandas as pd\n",
    "from matplotlib import pyplot as plt\n",
    "import numpy as np\n",
    "import matplotlib\n",
    "import random\n",
    "\n",
    "#Import your modules\n",
    "#---------------------------------------\n",
    "\n",
    "import admin_functions as adfn\n",
    "import metastability as mfn\n",
    "\n",
    "# Define paths\n",
    "#----------------------------------------------------------------------\n",
    "Fcode = '/Users/dominicburrows/Dropbox/PhD/Analysis/my_scripts/GitHub/'\n",
    "Fdata = '/Users/dominicburrows/Dropbox/PhD/analysis/Project/'\n",
    "Fdoc = '/Users/dominicburrows/Documents/'\n",
    "F10t = '/Volumes/Dominic 10tb/'\n",
    "F10t2 = '/Volumes/Dominic 10tb2/'\n",
    "Ftm = '/Volumes/Dominic Time Machine/'\n",
    "Ffig = '/Users/dominicburrows/Dropbox/PhD/figures/'\n",
    "\n",
    "%load_ext autoreload\n",
    "sys.version"
   ]
  },
  {
   "cell_type": "code",
   "execution_count": 2,
   "id": "8fc0b335-78d3-4414-b64e-285690d0b7bf",
   "metadata": {},
   "outputs": [
    {
     "data": {
      "text/plain": [
       "['BLNDEV-WILDTYPE-01_2photon_sess-01-4dpf_BLNGR_run-01_metastates.npy',\n",
       " 'BLNDEV-WILDTYPE-01_2photon_sess-01-5dpf_BLNGR_run-01_metastates.npy',\n",
       " 'BLNDEV-WILDTYPE-01_2photon_sess-01-6dpf_BLNGR_run-01_metastates.npy',\n",
       " 'BLNDEV-WILDTYPE-01_2photon_sess-01-7dpf_BLNGR_run-01_metastates.npy',\n",
       " 'BLNDEV-WILDTYPE-01_2photon_sess-01-8dpf_BLNGR_run-01_metastates.npy',\n",
       " 'BLNDEV-WILDTYPE-02_2photon_sess-01-3dpf_BLNGR_run-01_metastates.npy',\n",
       " 'BLNDEV-WILDTYPE-02_2photon_sess-01-4dpf_BLNGR_run-01_metastates.npy',\n",
       " 'BLNDEV-WILDTYPE-02_2photon_sess-01-5dpf_BLNGR_run-01_metastates.npy']"
      ]
     },
     "execution_count": 2,
     "metadata": {},
     "output_type": "execute_result"
    }
   ],
   "source": [
    "#Load developmental data\n",
    "bind_l = adfn.return_files(Fdata, 'BLNDEV-WILDTYPE', '*meta*')\n",
    "bind_l"
   ]
  },
  {
   "cell_type": "code",
   "execution_count": null,
   "id": "5b9e357b-e27f-4c09-a56f-f0dca247bb7a",
   "metadata": {},
   "outputs": [],
   "source": []
  }
 ],
 "metadata": {
  "kernelspec": {
   "display_name": "Python 3 (ipykernel)",
   "language": "python",
   "name": "python3"
  },
  "language_info": {
   "codemirror_mode": {
    "name": "ipython",
    "version": 3
   },
   "file_extension": ".py",
   "mimetype": "text/x-python",
   "name": "python",
   "nbconvert_exporter": "python",
   "pygments_lexer": "ipython3",
   "version": "3.7.16"
  }
 },
 "nbformat": 4,
 "nbformat_minor": 5
}
